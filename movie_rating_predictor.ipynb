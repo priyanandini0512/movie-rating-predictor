{
  "nbformat": 4,
  "nbformat_minor": 0,
  "metadata": {
    "colab": {
      "provenance": [],
      "authorship_tag": "ABX9TyMwx28WPB6fDua/nm9+jSaB",
      "include_colab_link": true
    },
    "kernelspec": {
      "name": "python3",
      "display_name": "Python 3"
    },
    "language_info": {
      "name": "python"
    }
  },
  "cells": [
    {
      "cell_type": "markdown",
      "metadata": {
        "id": "view-in-github",
        "colab_type": "text"
      },
      "source": [
        "<a href=\"https://colab.research.google.com/github/priyanandini0512/movie-rating-predictor/blob/main/movie_rating_predictor.ipynb\" target=\"_parent\"><img src=\"https://colab.research.google.com/assets/colab-badge.svg\" alt=\"Open In Colab\"/></a>"
      ]
    },
    {
      "cell_type": "code",
      "execution_count": null,
      "metadata": {
        "colab": {
          "base_uri": "https://localhost:8080/"
        },
        "id": "81U7-A5I80hj",
        "outputId": "cf78e965-55af-4db1-d884-ba09ac353e98"
      },
      "outputs": [
        {
          "output_type": "stream",
          "name": "stdout",
          "text": [
            "Root Mean Squared Error: 0.8145896803467627\n"
          ]
        }
      ],
      "source": [
        "import pandas as pd\n",
        "import numpy as np\n",
        "from sklearn.model_selection import train_test_split\n",
        "from sklearn.preprocessing import OneHotEncoder\n",
        "from sklearn.ensemble import RandomForestRegressor\n",
        "from sklearn.metrics import mean_squared_error\n",
        "\n",
        "# Load the dataset\n",
        "df = pd.read_csv(\"IMDb Movies India.csv\", encoding=\"latin1\")\n",
        "\n",
        "# Data Cleaning and Preprocessing\n",
        "## Extract numeric values\n",
        "df[\"Year\"] = df[\"Year\"].str.extract(\"(\\d{4})\").astype(float)\n",
        "df[\"Duration\"] = df[\"Duration\"].str.extract(\"(\\d+)\").astype(float)\n",
        "df[\"Votes\"] = df[\"Votes\"].str.replace(\"[^\\d]\", \"\", regex=True).astype(float)\n",
        "\n",
        "## Fill missing values\n",
        "df[\"Year\"] = df[\"Year\"].fillna(df[\"Year\"].mode()[0])\n",
        "df[\"Director\"] = df[\"Director\"].fillna(\"Unknown\")\n",
        "df[\"Duration\"] = df.groupby(\"Year\")[\"Duration\"].transform(lambda x: x.fillna(x.median()))\n",
        "df[\"Genre\"] = df[\"Genre\"].fillna(\"Unknown\")\n",
        "df[\"Actor 1\"] = df[\"Actor 1\"].fillna(\"Unknown\")\n",
        "df[\"Actor 2\"] = df[\"Actor 2\"].fillna(\"Unknown\")\n",
        "df[\"Actor 3\"] = df[\"Actor 3\"].fillna(\"Unknown\")\n",
        "\n",
        "# Handle missing ratings separately\n",
        "df[\"Rating\"] = df[\"Rating\"].astype(float)\n",
        "\n",
        "# Feature Engineering\n",
        "## Director Success Rate\n",
        "director_avg_rating = df.groupby(\"Director\")[\"Rating\"].mean().to_dict()\n",
        "df[\"Director_Success\"] = df[\"Director\"].map(director_avg_rating)\n",
        "\n",
        "## One-Hot Encoding for Genre\n",
        "ohe = OneHotEncoder(sparse_output=False, handle_unknown='ignore')\n",
        "genre_encoded = ohe.fit_transform(df[[\"Genre\"]])\n",
        "genre_df = pd.DataFrame(genre_encoded, columns=ohe.get_feature_names_out([\"Genre\"]))\n",
        "df = pd.concat([df, genre_df], axis=1)\n",
        "\n",
        "# Selecting Features and Target Variables\n",
        "features = [\"Year\", \"Duration\", \"Votes\", \"Director_Success\"] + list(genre_df.columns)\n",
        "df = df[features + [\"Rating\"]].dropna()\n",
        "\n",
        "X = df[features]\n",
        "y = df[\"Rating\"]\n",
        "\n",
        "# Train-Test Split\n",
        "X_train, X_test, y_train, y_test = train_test_split(X, y, test_size=0.2, random_state=42)\n",
        "\n",
        "# Train the Model\n",
        "model = RandomForestRegressor(n_estimators=100, random_state=42)\n",
        "model.fit(X_train, y_train)\n",
        "\n",
        "# Evaluate the Model\n",
        "y_pred = model.predict(X_test)\n",
        "mse = mean_squared_error(y_test, y_pred)\n",
        "rmse = np.sqrt(mse)\n",
        "\n",
        "print(f\"Root Mean Squared Error: {rmse}\")"
      ]
    }
  ]
}